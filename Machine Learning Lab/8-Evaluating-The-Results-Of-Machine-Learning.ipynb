{
 "cells": [
  {
   "cell_type": "code",
   "execution_count": 2,
   "metadata": {},
   "outputs": [
    {
     "name": "stdout",
     "output_type": "stream",
     "text": [
      "['0', '1', '0', '1', '1', '1', '0', '1', '0', '1', '0', '0', '0', '1', '1', '1', '0', '1', '1', '0']\n",
      "['0', '0', '0', '0', '1', '0', '1', '1', '1', '1', '0', '0', '0', '0', '0', '1', '0', '1', '1', '0']\n",
      "CONFUSION MATRIX :  [6, 7, 5, 2]\n",
      "ACCURACY :  0.65\n",
      "PRECISION :  0.5454545454545454\n",
      "RECALL :  0.75\n",
      "SENSITIVITY :  0.75\n",
      "SPECIFICITY :  0.5833333333333334\n",
      "MISCLASSIFICATION ERROR :  0.35\n"
     ]
    }
   ],
   "source": [
    "# EVALUATING THE RESULTS OF MACHINE LEARNING\n",
    "y = ['0','1','0','1','1','1','0','1','0','1','0','0','0','1','1','1','0','1','1','0']\n",
    "y_pred = ['0','0','0','0','1','0','1','1','1','1','0','0','0','0','0','1','0','1','1','0']\n",
    "\n",
    "print(y)\n",
    "print(y_pred)\n",
    "\n",
    "j = 0\n",
    "TP = TN = FP = FN = 0\n",
    "\n",
    "for i in y:\n",
    "    if i == '1' and y_pred[j] =='1':\n",
    "        TP += 1\n",
    "    elif i == '0' and y_pred[j] =='0':\n",
    "        TN += 1\n",
    "    elif i == '1' and y_pred[j] =='0':\n",
    "        FP += 1\n",
    "    elif i == '0' and y_pred[j] =='1':\n",
    "        FN += 1\n",
    "    j += 1\n",
    "    \n",
    "confusion_matrix = [TP, TN, FP, FN]\n",
    "ACC = (TP + TN) / (TP + FP + TN + FN)\n",
    "PREC = TP / (TP + FP)\n",
    "REC = TP / (TP + FN)\n",
    "SN = TP / (TP + FN)\n",
    "SP = TN / (TN + FP)\n",
    "MCE = 1 - ACC\n",
    "\n",
    "print(\"CONFUSION MATRIX : \", confusion_matrix)\n",
    "print(\"ACCURACY : \", ACC)\n",
    "print(\"PRECISION : \", PREC)\n",
    "print(\"RECALL : \", REC)\n",
    "print(\"SENSITIVITY : \", SN)\n",
    "print(\"SPECIFICITY : \", SP)\n",
    "print(\"MISCLASSIFICATION ERROR : \", MCE)"
   ]
  }
 ],
 "metadata": {
  "kernelspec": {
   "display_name": "Python 3",
   "language": "python",
   "name": "python3"
  },
  "language_info": {
   "codemirror_mode": {
    "name": "ipython",
    "version": 3
   },
   "file_extension": ".py",
   "mimetype": "text/x-python",
   "name": "python",
   "nbconvert_exporter": "python",
   "pygments_lexer": "ipython3",
   "version": "3.9.4"
  },
  "orig_nbformat": 4
 },
 "nbformat": 4,
 "nbformat_minor": 2
}
