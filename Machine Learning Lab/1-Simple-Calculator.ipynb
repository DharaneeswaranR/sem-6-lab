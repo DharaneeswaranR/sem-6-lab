{
 "cells": [
  {
   "cell_type": "code",
   "execution_count": 1,
   "metadata": {},
   "outputs": [
    {
     "name": "stdout",
     "output_type": "stream",
     "text": [
      "Operations: +, -, *, /\n",
      "12 + 13 = 25\n"
     ]
    }
   ],
   "source": [
    "print(\"Operations: +, -, *, /\")\n",
    "oper = input(\"Enter an operation: \")\n",
    "\n",
    "num1 = int(input(\"Enter first num: \"))\n",
    "num2 = int(input(\"Enter second num: \"))\n",
    "\n",
    "if oper == '+':\n",
    "    print(f'{num1} + {num2} = {num1 + num2}')\n",
    "elif oper == '-':\n",
    "    print(f'{num1} - {num2} = {num1 - num2}')\n",
    "elif oper == '*':\n",
    "    print(f'{num1} * {num2} = {num1 * num2}')\n",
    "elif oper == '/':\n",
    "    print(f'{num1} / {num2} = {num1 // num2}')\n",
    "else: \n",
    "    print(\"ERROR: INVALID OPERATION\")"
   ]
  }
 ],
 "metadata": {
  "kernelspec": {
   "display_name": "Python 3",
   "language": "python",
   "name": "python3"
  },
  "language_info": {
   "codemirror_mode": {
    "name": "ipython",
    "version": 3
   },
   "file_extension": ".py",
   "mimetype": "text/x-python",
   "name": "python",
   "nbconvert_exporter": "python",
   "pygments_lexer": "ipython3",
   "version": "3.9.4"
  }
 },
 "nbformat": 4,
 "nbformat_minor": 2
}
