{
 "cells": [
  {
   "cell_type": "code",
   "execution_count": 3,
   "id": "31584812",
   "metadata": {},
   "outputs": [
    {
     "name": "stdout",
     "output_type": "stream",
     "text": [
      "Enter a string: sist@123 #CSE\n",
      "Digits:  3\n",
      "Alphabets:  7\n",
      "Special characters:  2\n",
      "Lowercase:  4\n",
      "Uppercase:  3\n"
     ]
    }
   ],
   "source": [
    "def count(str):\n",
    "    alpha, upper, lower, number, special = 0, 0, 0, 0, 0\n",
    "\n",
    "    for ch in str:\n",
    "        if ch.isalpha():\n",
    "            alpha += 1\n",
    "        if ch.isupper():\n",
    "            upper += 1\n",
    "        elif ch.islower():\n",
    "            lower += 1\n",
    "        elif ch.isdigit():\n",
    "            number += 1\n",
    "        elif ch != \" \":\n",
    "            special += 1\n",
    "            \n",
    "    print('Digits: ', number)\n",
    "    print('Alphabets: ', alpha)\n",
    "    print('Special characters: ', special)\n",
    "    print('Lowercase: ', lower)\n",
    "    print('Uppercase: ', upper)\n",
    "\n",
    "s = input(\"Enter a string: \")\n",
    "count(s)"
   ]
  }
 ],
 "metadata": {
  "kernelspec": {
   "display_name": "Python 3",
   "language": "python",
   "name": "python3"
  },
  "language_info": {
   "codemirror_mode": {
    "name": "ipython",
    "version": 3
   },
   "file_extension": ".py",
   "mimetype": "text/x-python",
   "name": "python",
   "nbconvert_exporter": "python",
   "pygments_lexer": "ipython3",
   "version": "3.9.4"
  }
 },
 "nbformat": 4,
 "nbformat_minor": 5
}
